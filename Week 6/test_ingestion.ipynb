{
 "cells": [
  {
   "cell_type": "markdown",
   "id": "4385862e",
   "metadata": {},
   "source": [
    "# Table of Contents\n",
    "\n",
    "* [Part 1 - Read the file ( Present approach of reading the file )](#1)\n",
    "  - [1.1 Read the data with Pandas](#1.1)\n",
    "  - [1.2 Read the data with Ray & Modin](#1.2)\n",
    "  - [1.3 Read the data with Dask](#1.3)\n",
    "\n",
    "* [Part 2 - Perform basic validation on data columns : eg: remove special character , white spaces from the col name](#2)\n",
    "\n",
    "* [Part 3 - Create a YAML file and write the column name in YAML file. --define separator of read and write file, column name in YAML](#3)\n",
    "\n",
    "* [Part 4 - Validate number of columns and column name of ingested file with YAML](#4)\n",
    "\n",
    "* [Part 5 - Write the file in pipe separated text file (|) in gz format](#5)\n",
    "\n",
    "* [Part 6 - Create a summary of the file: total number of rows, total number of columns, file size](#6)"
   ]
  },
  {
   "cell_type": "markdown",
   "id": "b1a666ee",
   "metadata": {},
   "source": [
    "# Part 1 - Read the file (Present approach of reading the file) <a id=\"1\"></a>"
   ]
  },
  {
   "cell_type": "code",
   "execution_count": 2,
   "id": "d146e808",
   "metadata": {},
   "outputs": [],
   "source": [
    "import os\n",
    "import time"
   ]
  },
  {
   "cell_type": "markdown",
   "id": "d443b8e8",
   "metadata": {},
   "source": [
    "#### 1.1 Read the data with Pandas <a id=\"1.1\"></a>"
   ]
  },
  {
   "cell_type": "code",
   "execution_count": 3,
   "id": "f90b4da8",
   "metadata": {},
   "outputs": [
    {
     "name": "stdout",
     "output_type": "stream",
     "text": [
      "Read csv with pandas:  347.62111139297485 sec\n"
     ]
    }
   ],
   "source": [
    "import pandas as pd\n",
    "start = time.time()\n",
    "df_pandas = pd.read_csv('taxi.csv')\n",
    "end = time.time()\n",
    "print(\"Read csv with pandas: \",(end-start),\"sec\")"
   ]
  },
  {
   "cell_type": "markdown",
   "id": "43a5a87d",
   "metadata": {},
   "source": [
    "#### 1.2 Read the data with Ray & Modin <a id=\"1.2\"></a>"
   ]
  },
  {
   "cell_type": "code",
   "execution_count": 5,
   "id": "a8c00f47",
   "metadata": {},
   "outputs": [
    {
     "name": "stderr",
     "output_type": "stream",
     "text": [
      "2023-02-15 17:57:20,508\tINFO worker.py:1529 -- Started a local Ray instance. View the dashboard at \u001b[1m\u001b[32m127.0.0.1:8265 \u001b[39m\u001b[22m\n"
     ]
    },
    {
     "name": "stdout",
     "output_type": "stream",
     "text": [
      "Read csv with modin and ray:  231.0076470375061 sec\n"
     ]
    }
   ],
   "source": [
    "import modin.pandas as pd\n",
    "import ray\n",
    "ray.init()\n",
    "ray.shutdown()\n",
    "start = time.time()\n",
    "df_modin = pd.read_csv('taxi.csv')\n",
    "end = time.time()\n",
    "print(\"Read csv with modin and ray: \",(end-start),\"sec\")"
   ]
  },
  {
   "cell_type": "markdown",
   "id": "c14d4627",
   "metadata": {},
   "source": [
    "#### 1.3 Read the data with Dask <a id=\"1.4\"></a>"
   ]
  },
  {
   "cell_type": "code",
   "execution_count": 2,
   "id": "ec8c6584",
   "metadata": {},
   "outputs": [
    {
     "name": "stdout",
     "output_type": "stream",
     "text": [
      "Read csv with dask:  0.053991079330444336 sec\n"
     ]
    }
   ],
   "source": [
    "from dask import dataframe as dd\n",
    "start = time.time()\n",
    "df_dask = dd.read_csv('taxi.csv')\n",
    "end = time.time()\n",
    "print(\"Read csv with dask: \",(end-start),\"sec\")"
   ]
  },
  {
   "cell_type": "markdown",
   "id": "82eeb1f1",
   "metadata": {},
   "source": [
    "#### Dask performed better than Pandas and Modin & Ray in terms of time, with only 0.04078841209411621 seconds to compute."
   ]
  },
  {
   "cell_type": "markdown",
   "id": "4e732834",
   "metadata": {},
   "source": [
    "# Part 2 - Perform basic validation on data columns : eg: remove special character , white spaces from the col name <a id=\"2\"></a>"
   ]
  },
  {
   "cell_type": "code",
   "execution_count": 3,
   "id": "a5c63963",
   "metadata": {},
   "outputs": [
    {
     "name": "stdout",
     "output_type": "stream",
     "text": [
      "Overwriting testutility.py\n"
     ]
    }
   ],
   "source": [
    "%%writefile testutility.py\n",
    "import logging\n",
    "import os\n",
    "import subprocess\n",
    "import yaml\n",
    "import pandas as pd\n",
    "import datetime \n",
    "import gc\n",
    "import re\n",
    "\n",
    "################\n",
    "# File Reading #\n",
    "################\n",
    "\n",
    "def read_config_file(filepath):\n",
    "    with open(filepath, 'r') as stream:\n",
    "        try:\n",
    "            return yaml.safe_load(stream)\n",
    "        except yaml.YAMLError as exc:\n",
    "            logging.error(exc)\n",
    "\n",
    "\n",
    "def replacer(string, char):\n",
    "    pattern = char + '{2,}'\n",
    "    string = re.sub(pattern, char, string) \n",
    "    return string\n",
    "\n",
    "def col_header_val(df,table_config):\n",
    "    '''\n",
    "    replace whitespaces in the column\n",
    "    and standardized column names\n",
    "    '''\n",
    "    df.columns = df.columns.str.lower()\n",
    "    df.columns = df.columns.str.replace('[^\\w]','_',regex=True)\n",
    "    df.columns = list(map(lambda x: x.strip('_'), list(df.columns)))\n",
    "    df.columns = list(map(lambda x: replacer(x,'_'), list(df.columns)))\n",
    "    expected_col = list(map(lambda x: x.lower(),  table_config['columns']))\n",
    "    expected_col.sort()\n",
    "    df.columns =list(map(lambda x: x.lower(), list(df.columns)))\n",
    "    df = df.reindex(sorted(df.columns), axis=1)\n",
    "    if len(df.columns) == len(expected_col) and list(expected_col)  == list(df.columns):\n",
    "        print(\"column name and column length validation passed\")\n",
    "        return 1\n",
    "    else:\n",
    "        print(\"column name and column length validation failed\")\n",
    "        mismatched_columns_file = list(set(df.columns).difference(expected_col))\n",
    "        print(\"Following File columns are not in the YAML file\",mismatched_columns_file)\n",
    "        missing_YAML_file = list(set(expected_col).difference(df.columns))\n",
    "        print(\"Following YAML columns are not in the file uploaded\",missing_YAML_file)\n",
    "        logging.info(f'df columns: {df.columns}')\n",
    "        logging.info(f'expected columns: {expected_col}')\n",
    "        return 0"
   ]
  },
  {
   "cell_type": "markdown",
   "id": "8b475fbb",
   "metadata": {},
   "source": [
    "# Part 3 - Create a YAML file and write the column name in YAML file. --define separator of read and write file, column name in YAML <a id=\"3\"></a>"
   ]
  },
  {
   "cell_type": "code",
   "execution_count": 4,
   "id": "f7917648",
   "metadata": {},
   "outputs": [
    {
     "name": "stdout",
     "output_type": "stream",
     "text": [
      "Overwriting file.yaml\n"
     ]
    }
   ],
   "source": [
    "%%writefile file.yaml\n",
    "file_type: csv\n",
    "dataset_name: testfile\n",
    "file_name: taxi\n",
    "table_name: edsurv\n",
    "inbound_delimiter: \",\"\n",
    "outbound_delimiter: \"|\"\n",
    "skip_leading_rows: 1\n",
    "columns: \n",
    "    - key\n",
    "    - fare_amount\n",
    "    - pickup_datetime\n",
    "    - pickup_longitude\n",
    "    - pickup_latitude\n",
    "    - dropoff_longitude\n",
    "    - dropoff_latitude\n",
    "    - passenger_count"
   ]
  },
  {
   "cell_type": "code",
   "execution_count": 6,
   "id": "0f283d46",
   "metadata": {},
   "outputs": [
    {
     "data": {
      "text/plain": [
       "Index(['key', 'fare_amount', 'pickup_datetime', 'pickup_longitude',\n",
       "       'pickup_latitude', 'dropoff_longitude', 'dropoff_latitude',\n",
       "       'passenger_count'],\n",
       "      dtype='object')"
      ]
     },
     "execution_count": 6,
     "metadata": {},
     "output_type": "execute_result"
    }
   ],
   "source": [
    "df_dask.columns"
   ]
  },
  {
   "cell_type": "code",
   "execution_count": 7,
   "id": "0f12b441",
   "metadata": {},
   "outputs": [],
   "source": [
    "# Read config file\n",
    "import testutility as util\n",
    "config_data = util.read_config_file(\"file.yaml\")"
   ]
  },
  {
   "cell_type": "code",
   "execution_count": 8,
   "id": "91864dec",
   "metadata": {},
   "outputs": [
    {
     "data": {
      "text/plain": [
       "{'file_type': 'csv',\n",
       " 'dataset_name': 'testfile',\n",
       " 'file_name': 'taxi',\n",
       " 'table_name': 'edsurv',\n",
       " 'inbound_delimiter': ',',\n",
       " 'outbound_delimiter': '|',\n",
       " 'skip_leading_rows': 1,\n",
       " 'columns': ['key',\n",
       "  'fare_amount',\n",
       "  'pickup_datetime',\n",
       "  'pickup_longitude',\n",
       "  'pickup_latitude',\n",
       "  'dropoff_longitude',\n",
       "  'dropoff_latitude',\n",
       "  'passenger_count']}"
      ]
     },
     "execution_count": 8,
     "metadata": {},
     "output_type": "execute_result"
    }
   ],
   "source": [
    "#inspecting data of config file\n",
    "config_data"
   ]
  },
  {
   "cell_type": "code",
   "execution_count": 9,
   "id": "cef6c888",
   "metadata": {},
   "outputs": [
    {
     "data": {
      "text/html": [
       "<div>\n",
       "<style scoped>\n",
       "    .dataframe tbody tr th:only-of-type {\n",
       "        vertical-align: middle;\n",
       "    }\n",
       "\n",
       "    .dataframe tbody tr th {\n",
       "        vertical-align: top;\n",
       "    }\n",
       "\n",
       "    .dataframe thead th {\n",
       "        text-align: right;\n",
       "    }\n",
       "</style>\n",
       "<table border=\"1\" class=\"dataframe\">\n",
       "  <thead>\n",
       "    <tr style=\"text-align: right;\">\n",
       "      <th></th>\n",
       "      <th>key</th>\n",
       "      <th>fare_amount</th>\n",
       "      <th>pickup_datetime</th>\n",
       "      <th>pickup_longitude</th>\n",
       "      <th>pickup_latitude</th>\n",
       "      <th>dropoff_longitude</th>\n",
       "      <th>dropoff_latitude</th>\n",
       "      <th>passenger_count</th>\n",
       "    </tr>\n",
       "  </thead>\n",
       "  <tbody>\n",
       "    <tr>\n",
       "      <th>0</th>\n",
       "      <td>2009-06-15 17:26:21.0000001</td>\n",
       "      <td>4.5</td>\n",
       "      <td>2009-06-15 17:26:21 UTC</td>\n",
       "      <td>-73.844311</td>\n",
       "      <td>40.721319</td>\n",
       "      <td>-73.841610</td>\n",
       "      <td>40.712278</td>\n",
       "      <td>1</td>\n",
       "    </tr>\n",
       "    <tr>\n",
       "      <th>1</th>\n",
       "      <td>2010-01-05 16:52:16.0000002</td>\n",
       "      <td>16.9</td>\n",
       "      <td>2010-01-05 16:52:16 UTC</td>\n",
       "      <td>-74.016048</td>\n",
       "      <td>40.711303</td>\n",
       "      <td>-73.979268</td>\n",
       "      <td>40.782004</td>\n",
       "      <td>1</td>\n",
       "    </tr>\n",
       "    <tr>\n",
       "      <th>2</th>\n",
       "      <td>2011-08-18 00:35:00.00000049</td>\n",
       "      <td>5.7</td>\n",
       "      <td>2011-08-18 00:35:00 UTC</td>\n",
       "      <td>-73.982738</td>\n",
       "      <td>40.761270</td>\n",
       "      <td>-73.991242</td>\n",
       "      <td>40.750562</td>\n",
       "      <td>2</td>\n",
       "    </tr>\n",
       "    <tr>\n",
       "      <th>3</th>\n",
       "      <td>2012-04-21 04:30:42.0000001</td>\n",
       "      <td>7.7</td>\n",
       "      <td>2012-04-21 04:30:42 UTC</td>\n",
       "      <td>-73.987130</td>\n",
       "      <td>40.733143</td>\n",
       "      <td>-73.991567</td>\n",
       "      <td>40.758092</td>\n",
       "      <td>1</td>\n",
       "    </tr>\n",
       "    <tr>\n",
       "      <th>4</th>\n",
       "      <td>2010-03-09 07:51:00.000000135</td>\n",
       "      <td>5.3</td>\n",
       "      <td>2010-03-09 07:51:00 UTC</td>\n",
       "      <td>-73.968095</td>\n",
       "      <td>40.768008</td>\n",
       "      <td>-73.956655</td>\n",
       "      <td>40.783762</td>\n",
       "      <td>1</td>\n",
       "    </tr>\n",
       "  </tbody>\n",
       "</table>\n",
       "</div>"
      ],
      "text/plain": [
       "                             key  fare_amount          pickup_datetime  \\\n",
       "0    2009-06-15 17:26:21.0000001          4.5  2009-06-15 17:26:21 UTC   \n",
       "1    2010-01-05 16:52:16.0000002         16.9  2010-01-05 16:52:16 UTC   \n",
       "2   2011-08-18 00:35:00.00000049          5.7  2011-08-18 00:35:00 UTC   \n",
       "3    2012-04-21 04:30:42.0000001          7.7  2012-04-21 04:30:42 UTC   \n",
       "4  2010-03-09 07:51:00.000000135          5.3  2010-03-09 07:51:00 UTC   \n",
       "\n",
       "   pickup_longitude  pickup_latitude  dropoff_longitude  dropoff_latitude  \\\n",
       "0        -73.844311        40.721319         -73.841610         40.712278   \n",
       "1        -74.016048        40.711303         -73.979268         40.782004   \n",
       "2        -73.982738        40.761270         -73.991242         40.750562   \n",
       "3        -73.987130        40.733143         -73.991567         40.758092   \n",
       "4        -73.968095        40.768008         -73.956655         40.783762   \n",
       "\n",
       "   passenger_count  \n",
       "0                1  \n",
       "1                1  \n",
       "2                2  \n",
       "3                1  \n",
       "4                1  "
      ]
     },
     "execution_count": 9,
     "metadata": {},
     "output_type": "execute_result"
    }
   ],
   "source": [
    "# Reading process of the file using Dask\n",
    "from dask import dataframe as dd\n",
    "df_dask = dd.read_csv('taxi.csv',delimiter=',')\n",
    "df_dask.head()"
   ]
  },
  {
   "cell_type": "code",
   "execution_count": 23,
   "id": "0ba1d6c0",
   "metadata": {},
   "outputs": [
    {
     "name": "stderr",
     "output_type": "stream",
     "text": [
      "C:\\Users\\antho\\AppData\\Local\\Temp\\ipykernel_8100\\270781102.py:5: FutureWarning: In a future version of pandas all arguments of read_csv except for the argument 'filepath_or_buffer' will be keyword-only.\n",
      "  df = pd.read_csv(source_file,config_data['inbound_delimiter'])\n"
     ]
    },
    {
     "data": {
      "text/html": [
       "<div>\n",
       "<style scoped>\n",
       "    .dataframe tbody tr th:only-of-type {\n",
       "        vertical-align: middle;\n",
       "    }\n",
       "\n",
       "    .dataframe tbody tr th {\n",
       "        vertical-align: top;\n",
       "    }\n",
       "\n",
       "    .dataframe thead th {\n",
       "        text-align: right;\n",
       "    }\n",
       "</style>\n",
       "<table border=\"1\" class=\"dataframe\">\n",
       "  <thead>\n",
       "    <tr style=\"text-align: right;\">\n",
       "      <th></th>\n",
       "      <th>key</th>\n",
       "      <th>fare_amount</th>\n",
       "      <th>pickup_datetime</th>\n",
       "      <th>pickup_longitude</th>\n",
       "      <th>pickup_latitude</th>\n",
       "      <th>dropoff_longitude</th>\n",
       "      <th>dropoff_latitude</th>\n",
       "      <th>passenger_count</th>\n",
       "    </tr>\n",
       "  </thead>\n",
       "  <tbody>\n",
       "    <tr>\n",
       "      <th>0</th>\n",
       "      <td>2009-06-15 17:26:21.0000001</td>\n",
       "      <td>4.5</td>\n",
       "      <td>2009-06-15 17:26:21 UTC</td>\n",
       "      <td>-73.844311</td>\n",
       "      <td>40.721319</td>\n",
       "      <td>-73.841610</td>\n",
       "      <td>40.712278</td>\n",
       "      <td>1</td>\n",
       "    </tr>\n",
       "    <tr>\n",
       "      <th>1</th>\n",
       "      <td>2010-01-05 16:52:16.0000002</td>\n",
       "      <td>16.9</td>\n",
       "      <td>2010-01-05 16:52:16 UTC</td>\n",
       "      <td>-74.016048</td>\n",
       "      <td>40.711303</td>\n",
       "      <td>-73.979268</td>\n",
       "      <td>40.782004</td>\n",
       "      <td>1</td>\n",
       "    </tr>\n",
       "    <tr>\n",
       "      <th>2</th>\n",
       "      <td>2011-08-18 00:35:00.00000049</td>\n",
       "      <td>5.7</td>\n",
       "      <td>2011-08-18 00:35:00 UTC</td>\n",
       "      <td>-73.982738</td>\n",
       "      <td>40.761270</td>\n",
       "      <td>-73.991242</td>\n",
       "      <td>40.750562</td>\n",
       "      <td>2</td>\n",
       "    </tr>\n",
       "    <tr>\n",
       "      <th>3</th>\n",
       "      <td>2012-04-21 04:30:42.0000001</td>\n",
       "      <td>7.7</td>\n",
       "      <td>2012-04-21 04:30:42 UTC</td>\n",
       "      <td>-73.987130</td>\n",
       "      <td>40.733143</td>\n",
       "      <td>-73.991567</td>\n",
       "      <td>40.758092</td>\n",
       "      <td>1</td>\n",
       "    </tr>\n",
       "    <tr>\n",
       "      <th>4</th>\n",
       "      <td>2010-03-09 07:51:00.000000135</td>\n",
       "      <td>5.3</td>\n",
       "      <td>2010-03-09 07:51:00 UTC</td>\n",
       "      <td>-73.968095</td>\n",
       "      <td>40.768008</td>\n",
       "      <td>-73.956655</td>\n",
       "      <td>40.783762</td>\n",
       "      <td>1</td>\n",
       "    </tr>\n",
       "  </tbody>\n",
       "</table>\n",
       "</div>"
      ],
      "text/plain": [
       "                             key  fare_amount          pickup_datetime  \\\n",
       "0    2009-06-15 17:26:21.0000001          4.5  2009-06-15 17:26:21 UTC   \n",
       "1    2010-01-05 16:52:16.0000002         16.9  2010-01-05 16:52:16 UTC   \n",
       "2   2011-08-18 00:35:00.00000049          5.7  2011-08-18 00:35:00 UTC   \n",
       "3    2012-04-21 04:30:42.0000001          7.7  2012-04-21 04:30:42 UTC   \n",
       "4  2010-03-09 07:51:00.000000135          5.3  2010-03-09 07:51:00 UTC   \n",
       "\n",
       "   pickup_longitude  pickup_latitude  dropoff_longitude  dropoff_latitude  \\\n",
       "0        -73.844311        40.721319         -73.841610         40.712278   \n",
       "1        -74.016048        40.711303         -73.979268         40.782004   \n",
       "2        -73.982738        40.761270         -73.991242         40.750562   \n",
       "3        -73.987130        40.733143         -73.991567         40.758092   \n",
       "4        -73.968095        40.768008         -73.956655         40.783762   \n",
       "\n",
       "   passenger_count  \n",
       "0                1  \n",
       "1                1  \n",
       "2                2  \n",
       "3                1  \n",
       "4                1  "
      ]
     },
     "execution_count": 23,
     "metadata": {},
     "output_type": "execute_result"
    }
   ],
   "source": [
    "# read the file using config file\n",
    "file_type = config_data['file_type']\n",
    "source_file = \"./\" + config_data['file_name'] + f'.{file_type}'\n",
    "#print(\"\",source_file)\n",
    "df = pd.read_csv(source_file,config_data['inbound_delimiter'])\n",
    "df.head()"
   ]
  },
  {
   "cell_type": "markdown",
   "id": "9ae02add",
   "metadata": {},
   "source": [
    "# Part 4 - Validate number of columns and column name of ingested file with YAML <a id=\"4\"></a>"
   ]
  },
  {
   "cell_type": "code",
   "execution_count": 55,
   "id": "a4e46b04",
   "metadata": {},
   "outputs": [
    {
     "name": "stdout",
     "output_type": "stream",
     "text": [
      "column name and column length validation passed\n"
     ]
    },
    {
     "data": {
      "text/plain": [
       "1"
      ]
     },
     "execution_count": 55,
     "metadata": {},
     "output_type": "execute_result"
    }
   ],
   "source": [
    "#validate the header of the file\n",
    "util.col_header_val(df,config_data)"
   ]
  },
  {
   "cell_type": "code",
   "execution_count": 56,
   "id": "4913ff4e",
   "metadata": {},
   "outputs": [
    {
     "name": "stdout",
     "output_type": "stream",
     "text": [
      "column name and column length validation passed\n",
      "col validation passed\n"
     ]
    }
   ],
   "source": [
    "if util.col_header_val(df,config_data)==0:\n",
    "    print(\"validation failed\")\n",
    "    \n",
    "else:\n",
    "    print(\"col validation passed\")\n",
    "    "
   ]
  },
  {
   "cell_type": "markdown",
   "id": "54b89ae3",
   "metadata": {},
   "source": [
    "# Part 5 - Write the file in pipe separated text file (|) in gz format <a id=\"5\"></a>"
   ]
  },
  {
   "cell_type": "code",
   "execution_count": 58,
   "id": "0d81db6b",
   "metadata": {},
   "outputs": [
    {
     "data": {
      "text/plain": [
       "['C:\\\\Users\\\\antho\\\\Data-Glacier\\\\Week 6\\\\taxi.csv.gz\\\\00.part',\n",
       " 'C:\\\\Users\\\\antho\\\\Data-Glacier\\\\Week 6\\\\taxi.csv.gz\\\\01.part',\n",
       " 'C:\\\\Users\\\\antho\\\\Data-Glacier\\\\Week 6\\\\taxi.csv.gz\\\\02.part',\n",
       " 'C:\\\\Users\\\\antho\\\\Data-Glacier\\\\Week 6\\\\taxi.csv.gz\\\\03.part',\n",
       " 'C:\\\\Users\\\\antho\\\\Data-Glacier\\\\Week 6\\\\taxi.csv.gz\\\\04.part',\n",
       " 'C:\\\\Users\\\\antho\\\\Data-Glacier\\\\Week 6\\\\taxi.csv.gz\\\\05.part',\n",
       " 'C:\\\\Users\\\\antho\\\\Data-Glacier\\\\Week 6\\\\taxi.csv.gz\\\\06.part',\n",
       " 'C:\\\\Users\\\\antho\\\\Data-Glacier\\\\Week 6\\\\taxi.csv.gz\\\\07.part',\n",
       " 'C:\\\\Users\\\\antho\\\\Data-Glacier\\\\Week 6\\\\taxi.csv.gz\\\\08.part',\n",
       " 'C:\\\\Users\\\\antho\\\\Data-Glacier\\\\Week 6\\\\taxi.csv.gz\\\\09.part',\n",
       " 'C:\\\\Users\\\\antho\\\\Data-Glacier\\\\Week 6\\\\taxi.csv.gz\\\\10.part',\n",
       " 'C:\\\\Users\\\\antho\\\\Data-Glacier\\\\Week 6\\\\taxi.csv.gz\\\\11.part',\n",
       " 'C:\\\\Users\\\\antho\\\\Data-Glacier\\\\Week 6\\\\taxi.csv.gz\\\\12.part',\n",
       " 'C:\\\\Users\\\\antho\\\\Data-Glacier\\\\Week 6\\\\taxi.csv.gz\\\\13.part',\n",
       " 'C:\\\\Users\\\\antho\\\\Data-Glacier\\\\Week 6\\\\taxi.csv.gz\\\\14.part',\n",
       " 'C:\\\\Users\\\\antho\\\\Data-Glacier\\\\Week 6\\\\taxi.csv.gz\\\\15.part',\n",
       " 'C:\\\\Users\\\\antho\\\\Data-Glacier\\\\Week 6\\\\taxi.csv.gz\\\\16.part',\n",
       " 'C:\\\\Users\\\\antho\\\\Data-Glacier\\\\Week 6\\\\taxi.csv.gz\\\\17.part',\n",
       " 'C:\\\\Users\\\\antho\\\\Data-Glacier\\\\Week 6\\\\taxi.csv.gz\\\\18.part',\n",
       " 'C:\\\\Users\\\\antho\\\\Data-Glacier\\\\Week 6\\\\taxi.csv.gz\\\\19.part',\n",
       " 'C:\\\\Users\\\\antho\\\\Data-Glacier\\\\Week 6\\\\taxi.csv.gz\\\\20.part',\n",
       " 'C:\\\\Users\\\\antho\\\\Data-Glacier\\\\Week 6\\\\taxi.csv.gz\\\\21.part',\n",
       " 'C:\\\\Users\\\\antho\\\\Data-Glacier\\\\Week 6\\\\taxi.csv.gz\\\\22.part',\n",
       " 'C:\\\\Users\\\\antho\\\\Data-Glacier\\\\Week 6\\\\taxi.csv.gz\\\\23.part',\n",
       " 'C:\\\\Users\\\\antho\\\\Data-Glacier\\\\Week 6\\\\taxi.csv.gz\\\\24.part',\n",
       " 'C:\\\\Users\\\\antho\\\\Data-Glacier\\\\Week 6\\\\taxi.csv.gz\\\\25.part',\n",
       " 'C:\\\\Users\\\\antho\\\\Data-Glacier\\\\Week 6\\\\taxi.csv.gz\\\\26.part',\n",
       " 'C:\\\\Users\\\\antho\\\\Data-Glacier\\\\Week 6\\\\taxi.csv.gz\\\\27.part',\n",
       " 'C:\\\\Users\\\\antho\\\\Data-Glacier\\\\Week 6\\\\taxi.csv.gz\\\\28.part',\n",
       " 'C:\\\\Users\\\\antho\\\\Data-Glacier\\\\Week 6\\\\taxi.csv.gz\\\\29.part',\n",
       " 'C:\\\\Users\\\\antho\\\\Data-Glacier\\\\Week 6\\\\taxi.csv.gz\\\\30.part',\n",
       " 'C:\\\\Users\\\\antho\\\\Data-Glacier\\\\Week 6\\\\taxi.csv.gz\\\\31.part',\n",
       " 'C:\\\\Users\\\\antho\\\\Data-Glacier\\\\Week 6\\\\taxi.csv.gz\\\\32.part',\n",
       " 'C:\\\\Users\\\\antho\\\\Data-Glacier\\\\Week 6\\\\taxi.csv.gz\\\\33.part',\n",
       " 'C:\\\\Users\\\\antho\\\\Data-Glacier\\\\Week 6\\\\taxi.csv.gz\\\\34.part',\n",
       " 'C:\\\\Users\\\\antho\\\\Data-Glacier\\\\Week 6\\\\taxi.csv.gz\\\\35.part',\n",
       " 'C:\\\\Users\\\\antho\\\\Data-Glacier\\\\Week 6\\\\taxi.csv.gz\\\\36.part',\n",
       " 'C:\\\\Users\\\\antho\\\\Data-Glacier\\\\Week 6\\\\taxi.csv.gz\\\\37.part',\n",
       " 'C:\\\\Users\\\\antho\\\\Data-Glacier\\\\Week 6\\\\taxi.csv.gz\\\\38.part',\n",
       " 'C:\\\\Users\\\\antho\\\\Data-Glacier\\\\Week 6\\\\taxi.csv.gz\\\\39.part',\n",
       " 'C:\\\\Users\\\\antho\\\\Data-Glacier\\\\Week 6\\\\taxi.csv.gz\\\\40.part',\n",
       " 'C:\\\\Users\\\\antho\\\\Data-Glacier\\\\Week 6\\\\taxi.csv.gz\\\\41.part',\n",
       " 'C:\\\\Users\\\\antho\\\\Data-Glacier\\\\Week 6\\\\taxi.csv.gz\\\\42.part',\n",
       " 'C:\\\\Users\\\\antho\\\\Data-Glacier\\\\Week 6\\\\taxi.csv.gz\\\\43.part',\n",
       " 'C:\\\\Users\\\\antho\\\\Data-Glacier\\\\Week 6\\\\taxi.csv.gz\\\\44.part',\n",
       " 'C:\\\\Users\\\\antho\\\\Data-Glacier\\\\Week 6\\\\taxi.csv.gz\\\\45.part',\n",
       " 'C:\\\\Users\\\\antho\\\\Data-Glacier\\\\Week 6\\\\taxi.csv.gz\\\\46.part',\n",
       " 'C:\\\\Users\\\\antho\\\\Data-Glacier\\\\Week 6\\\\taxi.csv.gz\\\\47.part',\n",
       " 'C:\\\\Users\\\\antho\\\\Data-Glacier\\\\Week 6\\\\taxi.csv.gz\\\\48.part',\n",
       " 'C:\\\\Users\\\\antho\\\\Data-Glacier\\\\Week 6\\\\taxi.csv.gz\\\\49.part',\n",
       " 'C:\\\\Users\\\\antho\\\\Data-Glacier\\\\Week 6\\\\taxi.csv.gz\\\\50.part',\n",
       " 'C:\\\\Users\\\\antho\\\\Data-Glacier\\\\Week 6\\\\taxi.csv.gz\\\\51.part',\n",
       " 'C:\\\\Users\\\\antho\\\\Data-Glacier\\\\Week 6\\\\taxi.csv.gz\\\\52.part',\n",
       " 'C:\\\\Users\\\\antho\\\\Data-Glacier\\\\Week 6\\\\taxi.csv.gz\\\\53.part',\n",
       " 'C:\\\\Users\\\\antho\\\\Data-Glacier\\\\Week 6\\\\taxi.csv.gz\\\\54.part',\n",
       " 'C:\\\\Users\\\\antho\\\\Data-Glacier\\\\Week 6\\\\taxi.csv.gz\\\\55.part',\n",
       " 'C:\\\\Users\\\\antho\\\\Data-Glacier\\\\Week 6\\\\taxi.csv.gz\\\\56.part',\n",
       " 'C:\\\\Users\\\\antho\\\\Data-Glacier\\\\Week 6\\\\taxi.csv.gz\\\\57.part',\n",
       " 'C:\\\\Users\\\\antho\\\\Data-Glacier\\\\Week 6\\\\taxi.csv.gz\\\\58.part',\n",
       " 'C:\\\\Users\\\\antho\\\\Data-Glacier\\\\Week 6\\\\taxi.csv.gz\\\\59.part',\n",
       " 'C:\\\\Users\\\\antho\\\\Data-Glacier\\\\Week 6\\\\taxi.csv.gz\\\\60.part',\n",
       " 'C:\\\\Users\\\\antho\\\\Data-Glacier\\\\Week 6\\\\taxi.csv.gz\\\\61.part',\n",
       " 'C:\\\\Users\\\\antho\\\\Data-Glacier\\\\Week 6\\\\taxi.csv.gz\\\\62.part',\n",
       " 'C:\\\\Users\\\\antho\\\\Data-Glacier\\\\Week 6\\\\taxi.csv.gz\\\\63.part',\n",
       " 'C:\\\\Users\\\\antho\\\\Data-Glacier\\\\Week 6\\\\taxi.csv.gz\\\\64.part',\n",
       " 'C:\\\\Users\\\\antho\\\\Data-Glacier\\\\Week 6\\\\taxi.csv.gz\\\\65.part',\n",
       " 'C:\\\\Users\\\\antho\\\\Data-Glacier\\\\Week 6\\\\taxi.csv.gz\\\\66.part',\n",
       " 'C:\\\\Users\\\\antho\\\\Data-Glacier\\\\Week 6\\\\taxi.csv.gz\\\\67.part',\n",
       " 'C:\\\\Users\\\\antho\\\\Data-Glacier\\\\Week 6\\\\taxi.csv.gz\\\\68.part',\n",
       " 'C:\\\\Users\\\\antho\\\\Data-Glacier\\\\Week 6\\\\taxi.csv.gz\\\\69.part',\n",
       " 'C:\\\\Users\\\\antho\\\\Data-Glacier\\\\Week 6\\\\taxi.csv.gz\\\\70.part',\n",
       " 'C:\\\\Users\\\\antho\\\\Data-Glacier\\\\Week 6\\\\taxi.csv.gz\\\\71.part',\n",
       " 'C:\\\\Users\\\\antho\\\\Data-Glacier\\\\Week 6\\\\taxi.csv.gz\\\\72.part',\n",
       " 'C:\\\\Users\\\\antho\\\\Data-Glacier\\\\Week 6\\\\taxi.csv.gz\\\\73.part',\n",
       " 'C:\\\\Users\\\\antho\\\\Data-Glacier\\\\Week 6\\\\taxi.csv.gz\\\\74.part',\n",
       " 'C:\\\\Users\\\\antho\\\\Data-Glacier\\\\Week 6\\\\taxi.csv.gz\\\\75.part',\n",
       " 'C:\\\\Users\\\\antho\\\\Data-Glacier\\\\Week 6\\\\taxi.csv.gz\\\\76.part',\n",
       " 'C:\\\\Users\\\\antho\\\\Data-Glacier\\\\Week 6\\\\taxi.csv.gz\\\\77.part',\n",
       " 'C:\\\\Users\\\\antho\\\\Data-Glacier\\\\Week 6\\\\taxi.csv.gz\\\\78.part',\n",
       " 'C:\\\\Users\\\\antho\\\\Data-Glacier\\\\Week 6\\\\taxi.csv.gz\\\\79.part',\n",
       " 'C:\\\\Users\\\\antho\\\\Data-Glacier\\\\Week 6\\\\taxi.csv.gz\\\\80.part',\n",
       " 'C:\\\\Users\\\\antho\\\\Data-Glacier\\\\Week 6\\\\taxi.csv.gz\\\\81.part',\n",
       " 'C:\\\\Users\\\\antho\\\\Data-Glacier\\\\Week 6\\\\taxi.csv.gz\\\\82.part',\n",
       " 'C:\\\\Users\\\\antho\\\\Data-Glacier\\\\Week 6\\\\taxi.csv.gz\\\\83.part',\n",
       " 'C:\\\\Users\\\\antho\\\\Data-Glacier\\\\Week 6\\\\taxi.csv.gz\\\\84.part',\n",
       " 'C:\\\\Users\\\\antho\\\\Data-Glacier\\\\Week 6\\\\taxi.csv.gz\\\\85.part',\n",
       " 'C:\\\\Users\\\\antho\\\\Data-Glacier\\\\Week 6\\\\taxi.csv.gz\\\\86.part',\n",
       " 'C:\\\\Users\\\\antho\\\\Data-Glacier\\\\Week 6\\\\taxi.csv.gz\\\\87.part',\n",
       " 'C:\\\\Users\\\\antho\\\\Data-Glacier\\\\Week 6\\\\taxi.csv.gz\\\\88.part']"
      ]
     },
     "execution_count": 58,
     "metadata": {},
     "output_type": "execute_result"
    }
   ],
   "source": [
    "import datetime\n",
    "import csv\n",
    "import gzip\n",
    "\n",
    "from dask import dataframe as dd\n",
    "df = dd.read_csv('taxi.csv',delimiter=',')\n",
    "\n",
    "# Write csv in gz format in pipe separated text file (|)\n",
    "df.to_csv('taxi.csv.gz',\n",
    "          sep='|',\n",
    "          header=True,\n",
    "          index=False,\n",
    "          quoting=csv.QUOTE_ALL,\n",
    "          compression='gzip',\n",
    "          quotechar='\"',\n",
    "          doublequote=True,\n",
    "          lineterminator='\\n')"
   ]
  },
  {
   "cell_type": "markdown",
   "id": "fac8903e",
   "metadata": {},
   "source": [
    "# Part 6 - Create a summary of the file: total number of rows, total number of columns, file size <a id=\"6\"></a>"
   ]
  },
  {
   "cell_type": "code",
   "execution_count": 15,
   "id": "e7db7be8",
   "metadata": {},
   "outputs": [
    {
     "name": "stdout",
     "output_type": "stream",
     "text": [
      "File summary:\n",
      "File size: 40960 bytes\n"
     ]
    }
   ],
   "source": [
    "import os\n",
    "import pandas as pd\n",
    "\n",
    "# set the file path\n",
    "file_path = 'taxi.csv.gz'\n",
    "\n",
    "# get the file size\n",
    "file_size = os.path.getsize(file_path)\n",
    "\n",
    "# read the file using pandas\n",
    "#df = pd.read_csv(file_path, delimiter='|')\n",
    "\n",
    "# get the total number of rows and columns\n",
    "#num_rows = df.shape[0]\n",
    "#num_cols = df.shape[1]\n",
    "\n",
    "# print the summary\n",
    "print('File summary:')\n",
    "#print(f'Total number of rows: {num_rows}')\n",
    "#print(f'Total number of columns: {num_cols}')\n",
    "print(f'File size: {file_size} bytes')\n"
   ]
  }
 ],
 "metadata": {
  "kernelspec": {
   "display_name": "Python 3 (ipykernel)",
   "language": "python",
   "name": "python3"
  },
  "language_info": {
   "codemirror_mode": {
    "name": "ipython",
    "version": 3
   },
   "file_extension": ".py",
   "mimetype": "text/x-python",
   "name": "python",
   "nbconvert_exporter": "python",
   "pygments_lexer": "ipython3",
   "version": "3.9.12"
  }
 },
 "nbformat": 4,
 "nbformat_minor": 5
}
